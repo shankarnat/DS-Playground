{
 "cells": [
  {
   "cell_type": "code",
   "execution_count": 4,
   "id": "9651253a-7666-447f-824d-d86eafe6232f",
   "metadata": {},
   "outputs": [
    {
     "name": "stdout",
     "output_type": "stream",
     "text": [
      "Collecting pymilvus\n",
      "  Using cached pymilvus-2.4.0-1-py3-none-any.whl.metadata (4.5 kB)\n",
      "Collecting setuptools>=67 (from pymilvus)\n",
      "  Using cached setuptools-69.5.1-py3-none-any.whl.metadata (6.2 kB)\n",
      "Collecting grpcio<=1.60.0,>=1.49.1 (from pymilvus)\n",
      "  Using cached grpcio-1.60.0-cp312-cp312-macosx_10_10_universal2.whl.metadata (4.0 kB)\n",
      "Collecting protobuf>=3.20.0 (from pymilvus)\n",
      "  Using cached protobuf-5.26.1-cp37-abi3-macosx_10_9_universal2.whl.metadata (592 bytes)\n",
      "Collecting environs<=9.5.0 (from pymilvus)\n",
      "  Using cached environs-9.5.0-py2.py3-none-any.whl.metadata (14 kB)\n",
      "Collecting ujson>=2.0.0 (from pymilvus)\n",
      "  Using cached ujson-5.9.0-cp312-cp312-macosx_10_9_x86_64.whl.metadata (8.7 kB)\n",
      "Collecting pandas>=1.2.4 (from pymilvus)\n",
      "  Using cached pandas-2.2.2-cp312-cp312-macosx_10_9_x86_64.whl.metadata (19 kB)\n",
      "Requirement already satisfied: requests in /usr/local/Cellar/jupyterlab/4.1.6_1/libexec/lib/python3.12/site-packages (from pymilvus) (2.31.0)\n",
      "Collecting minio>=7.0.0 (from pymilvus)\n",
      "  Using cached minio-7.2.5-py3-none-any.whl.metadata (6.4 kB)\n",
      "Collecting pyarrow>=12.0.0 (from pymilvus)\n",
      "  Using cached pyarrow-15.0.2-cp312-cp312-macosx_10_15_x86_64.whl.metadata (3.0 kB)\n",
      "Collecting azure-storage-blob (from pymilvus)\n",
      "  Using cached azure_storage_blob-12.19.1-py3-none-any.whl.metadata (26 kB)\n",
      "Collecting scipy (from pymilvus)\n",
      "  Using cached scipy-1.13.0-cp312-cp312-macosx_10_9_x86_64.whl.metadata (60 kB)\n",
      "Collecting marshmallow>=3.0.0 (from environs<=9.5.0->pymilvus)\n",
      "  Using cached marshmallow-3.21.1-py3-none-any.whl.metadata (7.2 kB)\n",
      "Collecting python-dotenv (from environs<=9.5.0->pymilvus)\n",
      "  Using cached python_dotenv-1.0.1-py3-none-any.whl.metadata (23 kB)\n",
      "Requirement already satisfied: certifi in /usr/local/opt/certifi/lib/python3.12/site-packages (from minio>=7.0.0->pymilvus) (2024.2.2)\n",
      "Requirement already satisfied: urllib3 in /usr/local/Cellar/jupyterlab/4.1.6_1/libexec/lib/python3.12/site-packages (from minio>=7.0.0->pymilvus) (2.2.1)\n",
      "Requirement already satisfied: argon2-cffi in /usr/local/Cellar/jupyterlab/4.1.6_1/libexec/lib/python3.12/site-packages (from minio>=7.0.0->pymilvus) (23.1.0)\n",
      "Collecting pycryptodome (from minio>=7.0.0->pymilvus)\n",
      "  Using cached pycryptodome-3.20.0-cp35-abi3-macosx_10_9_x86_64.whl.metadata (3.4 kB)\n",
      "Collecting typing-extensions (from minio>=7.0.0->pymilvus)\n",
      "  Using cached typing_extensions-4.11.0-py3-none-any.whl.metadata (3.0 kB)\n",
      "Collecting numpy>=1.26.0 (from pandas>=1.2.4->pymilvus)\n",
      "  Using cached numpy-1.26.4-cp312-cp312-macosx_10_9_x86_64.whl.metadata (61 kB)\n",
      "Requirement already satisfied: python-dateutil>=2.8.2 in /usr/local/Cellar/jupyterlab/4.1.6_1/libexec/lib/python3.12/site-packages (from pandas>=1.2.4->pymilvus) (2.9.0.post0)\n",
      "Collecting pytz>=2020.1 (from pandas>=1.2.4->pymilvus)\n",
      "  Using cached pytz-2024.1-py2.py3-none-any.whl.metadata (22 kB)\n",
      "Collecting tzdata>=2022.7 (from pandas>=1.2.4->pymilvus)\n",
      "  Using cached tzdata-2024.1-py2.py3-none-any.whl.metadata (1.4 kB)\n",
      "Collecting azure-core<2.0.0,>=1.28.0 (from azure-storage-blob->pymilvus)\n",
      "  Using cached azure_core-1.30.1-py3-none-any.whl.metadata (37 kB)\n",
      "Collecting cryptography>=2.1.4 (from azure-storage-blob->pymilvus)\n",
      "  Using cached cryptography-42.0.5-cp39-abi3-macosx_10_12_universal2.whl.metadata (5.3 kB)\n",
      "Collecting isodate>=0.6.1 (from azure-storage-blob->pymilvus)\n",
      "  Using cached isodate-0.6.1-py2.py3-none-any.whl.metadata (9.6 kB)\n",
      "Requirement already satisfied: charset-normalizer<4,>=2 in /usr/local/Cellar/jupyterlab/4.1.6_1/libexec/lib/python3.12/site-packages (from requests->pymilvus) (3.3.2)\n",
      "Requirement already satisfied: idna<4,>=2.5 in /usr/local/Cellar/jupyterlab/4.1.6_1/libexec/lib/python3.12/site-packages (from requests->pymilvus) (3.7)\n",
      "Requirement already satisfied: six>=1.11.0 in /usr/local/Cellar/jupyterlab/4.1.6_1/libexec/lib/python3.12/site-packages (from azure-core<2.0.0,>=1.28.0->azure-storage-blob->pymilvus) (1.16.0)\n",
      "Requirement already satisfied: cffi>=1.12 in /usr/local/Cellar/jupyterlab/4.1.6_1/libexec/lib/python3.12/site-packages (from cryptography>=2.1.4->azure-storage-blob->pymilvus) (1.16.0)\n",
      "Requirement already satisfied: packaging>=17.0 in /usr/local/Cellar/jupyterlab/4.1.6_1/libexec/lib/python3.12/site-packages (from marshmallow>=3.0.0->environs<=9.5.0->pymilvus) (24.0)\n",
      "Requirement already satisfied: argon2-cffi-bindings in /usr/local/Cellar/jupyterlab/4.1.6_1/libexec/lib/python3.12/site-packages (from argon2-cffi->minio>=7.0.0->pymilvus) (21.2.0)\n",
      "Requirement already satisfied: pycparser in /usr/local/Cellar/jupyterlab/4.1.6_1/libexec/lib/python3.12/site-packages (from cffi>=1.12->cryptography>=2.1.4->azure-storage-blob->pymilvus) (2.22)\n",
      "Using cached pymilvus-2.4.0-1-py3-none-any.whl (189 kB)\n",
      "Using cached environs-9.5.0-py2.py3-none-any.whl (12 kB)\n",
      "Using cached grpcio-1.60.0-cp312-cp312-macosx_10_10_universal2.whl (9.6 MB)\n",
      "Using cached minio-7.2.5-py3-none-any.whl (93 kB)\n",
      "Using cached pandas-2.2.2-cp312-cp312-macosx_10_9_x86_64.whl (12.5 MB)\n",
      "Using cached protobuf-5.26.1-cp37-abi3-macosx_10_9_universal2.whl (404 kB)\n",
      "Using cached pyarrow-15.0.2-cp312-cp312-macosx_10_15_x86_64.whl (27.1 MB)\n",
      "Using cached setuptools-69.5.1-py3-none-any.whl (894 kB)\n",
      "Using cached ujson-5.9.0-cp312-cp312-macosx_10_9_x86_64.whl (57 kB)\n",
      "Using cached azure_storage_blob-12.19.1-py3-none-any.whl (394 kB)\n",
      "Using cached scipy-1.13.0-cp312-cp312-macosx_10_9_x86_64.whl (39.4 MB)\n",
      "Using cached azure_core-1.30.1-py3-none-any.whl (193 kB)\n",
      "Using cached cryptography-42.0.5-cp39-abi3-macosx_10_12_universal2.whl (5.9 MB)\n",
      "Using cached isodate-0.6.1-py2.py3-none-any.whl (41 kB)\n",
      "Using cached marshmallow-3.21.1-py3-none-any.whl (49 kB)\n",
      "Using cached numpy-1.26.4-cp312-cp312-macosx_10_9_x86_64.whl (20.3 MB)\n",
      "Using cached pytz-2024.1-py2.py3-none-any.whl (505 kB)\n",
      "Using cached typing_extensions-4.11.0-py3-none-any.whl (34 kB)\n",
      "Using cached tzdata-2024.1-py2.py3-none-any.whl (345 kB)\n",
      "Using cached pycryptodome-3.20.0-cp35-abi3-macosx_10_9_x86_64.whl (1.6 MB)\n",
      "Using cached python_dotenv-1.0.1-py3-none-any.whl (19 kB)\n",
      "Installing collected packages: pytz, ujson, tzdata, typing-extensions, setuptools, python-dotenv, pycryptodome, protobuf, numpy, marshmallow, isodate, grpcio, scipy, pyarrow, pandas, environs, cryptography, azure-core, azure-storage-blob, minio, pymilvus\n",
      "Successfully installed azure-core-1.30.1 azure-storage-blob-12.19.1 cryptography-42.0.5 environs-9.5.0 grpcio-1.60.0 isodate-0.6.1 marshmallow-3.21.1 minio-7.2.5 numpy-1.26.4 pandas-2.2.2 protobuf-5.26.1 pyarrow-15.0.2 pycryptodome-3.20.0 pymilvus-2.4.0 python-dotenv-1.0.1 pytz-2024.1 scipy-1.13.0 setuptools-69.5.1 typing-extensions-4.11.0 tzdata-2024.1 ujson-5.9.0\n"
     ]
    }
   ],
   "source": [
    "!/usr/local/Cellar/jupyterlab/4.1.6_1/libexec/bin/python -m pip install pymilvus"
   ]
  },
  {
   "cell_type": "code",
   "execution_count": 7,
   "id": "71052a45-92b7-4ba9-87b0-a1e74269c701",
   "metadata": {},
   "outputs": [
    {
     "name": "stdout",
     "output_type": "stream",
     "text": [
      "\u001b[33mWARNING: typer 0.12.3 does not provide the extra 'all'\u001b[0m\u001b[33m\n",
      "\u001b[0m"
     ]
    }
   ],
   "source": [
    "!/usr/local/Cellar/jupyterlab/4.1.6_1/libexec/bin/python -m pip install -q towhee towhee.models gradio"
   ]
  },
  {
   "cell_type": "code",
   "execution_count": 4,
   "id": "7caeec88-5ead-4dcd-b09b-3e29dab44167",
   "metadata": {},
   "outputs": [
    {
     "name": "stdout",
     "output_type": "stream",
     "text": [
      "  % Total    % Received % Xferd  Average Speed   Time    Time     Time  Current\n",
      "                                 Dload  Upload   Total   Spent    Left  Speed\n",
      "  0     0    0     0    0     0      0      0 --:--:-- --:--:-- --:--:--     0\n",
      "100  595k  100  595k    0     0   328k      0  0:00:01  0:00:01 --:--:--  443k\n"
     ]
    }
   ],
   "source": [
    "! curl -L https://github.com/towhee-io/examples/releases/download/data/question_answer.csv -O"
   ]
  },
  {
   "cell_type": "code",
   "execution_count": 5,
   "id": "fffc3fb7-b3c5-465d-b9f5-3db5b7c6bed1",
   "metadata": {},
   "outputs": [
    {
     "name": "stdout",
     "output_type": "stream",
     "text": [
      "Requirement already satisfied: pandas in /usr/local/Cellar/jupyterlab/4.1.6_1/libexec/lib/python3.12/site-packages (2.2.2)\n",
      "Requirement already satisfied: numpy>=1.26.0 in /usr/local/Cellar/jupyterlab/4.1.6_1/libexec/lib/python3.12/site-packages (from pandas) (1.26.4)\n",
      "Requirement already satisfied: python-dateutil>=2.8.2 in /usr/local/Cellar/jupyterlab/4.1.6_1/libexec/lib/python3.12/site-packages (from pandas) (2.9.0.post0)\n",
      "Requirement already satisfied: pytz>=2020.1 in /usr/local/Cellar/jupyterlab/4.1.6_1/libexec/lib/python3.12/site-packages (from pandas) (2024.1)\n",
      "Requirement already satisfied: tzdata>=2022.7 in /usr/local/Cellar/jupyterlab/4.1.6_1/libexec/lib/python3.12/site-packages (from pandas) (2024.1)\n",
      "Requirement already satisfied: six>=1.5 in /usr/local/Cellar/jupyterlab/4.1.6_1/libexec/lib/python3.12/site-packages (from python-dateutil>=2.8.2->pandas) (1.16.0)\n"
     ]
    }
   ],
   "source": [
    "!/usr/local/Cellar/jupyterlab/4.1.6_1/libexec/bin/python -m pip install pandas"
   ]
  },
  {
   "cell_type": "code",
   "execution_count": 6,
   "id": "21e608af-18a4-4113-a46c-0bb3b9f880b7",
   "metadata": {},
   "outputs": [
    {
     "data": {
      "text/html": [
       "<div>\n",
       "<style scoped>\n",
       "    .dataframe tbody tr th:only-of-type {\n",
       "        vertical-align: middle;\n",
       "    }\n",
       "\n",
       "    .dataframe tbody tr th {\n",
       "        vertical-align: top;\n",
       "    }\n",
       "\n",
       "    .dataframe thead th {\n",
       "        text-align: right;\n",
       "    }\n",
       "</style>\n",
       "<table border=\"1\" class=\"dataframe\">\n",
       "  <thead>\n",
       "    <tr style=\"text-align: right;\">\n",
       "      <th></th>\n",
       "      <th>id</th>\n",
       "      <th>question</th>\n",
       "      <th>answer</th>\n",
       "    </tr>\n",
       "  </thead>\n",
       "  <tbody>\n",
       "    <tr>\n",
       "      <th>0</th>\n",
       "      <td>0</td>\n",
       "      <td>Is  Disability  Insurance  Required  By  Law?</td>\n",
       "      <td>Not generally. There are five states that requ...</td>\n",
       "    </tr>\n",
       "    <tr>\n",
       "      <th>1</th>\n",
       "      <td>1</td>\n",
       "      <td>Can  Creditors  Take  Life  Insurance  After  ...</td>\n",
       "      <td>If the person who passed away was the one with...</td>\n",
       "    </tr>\n",
       "    <tr>\n",
       "      <th>2</th>\n",
       "      <td>2</td>\n",
       "      <td>Does  Travelers  Insurance  Have  Renters  Ins...</td>\n",
       "      <td>One of the insurance carriers I represent is T...</td>\n",
       "    </tr>\n",
       "    <tr>\n",
       "      <th>3</th>\n",
       "      <td>3</td>\n",
       "      <td>Can  I  Drive  A  New  Car  Home  Without  Ins...</td>\n",
       "      <td>Most auto dealers will not let you drive the c...</td>\n",
       "    </tr>\n",
       "    <tr>\n",
       "      <th>4</th>\n",
       "      <td>4</td>\n",
       "      <td>Is  The  Cash  Surrender  Value  Of  Life  Ins...</td>\n",
       "      <td>Cash surrender value comes only with Whole Lif...</td>\n",
       "    </tr>\n",
       "  </tbody>\n",
       "</table>\n",
       "</div>"
      ],
      "text/plain": [
       "   id                                           question  \\\n",
       "0   0      Is  Disability  Insurance  Required  By  Law?   \n",
       "1   1  Can  Creditors  Take  Life  Insurance  After  ...   \n",
       "2   2  Does  Travelers  Insurance  Have  Renters  Ins...   \n",
       "3   3  Can  I  Drive  A  New  Car  Home  Without  Ins...   \n",
       "4   4  Is  The  Cash  Surrender  Value  Of  Life  Ins...   \n",
       "\n",
       "                                              answer  \n",
       "0  Not generally. There are five states that requ...  \n",
       "1  If the person who passed away was the one with...  \n",
       "2  One of the insurance carriers I represent is T...  \n",
       "3  Most auto dealers will not let you drive the c...  \n",
       "4  Cash surrender value comes only with Whole Lif...  "
      ]
     },
     "execution_count": 6,
     "metadata": {},
     "output_type": "execute_result"
    }
   ],
   "source": [
    "import pandas as pd\n",
    "\n",
    "df = pd.read_csv('question_answer.csv')\n",
    "df.head()"
   ]
  },
  {
   "cell_type": "code",
   "execution_count": 8,
   "id": "6ad0aceb-353f-44d9-b8c9-56daf1ef0815",
   "metadata": {},
   "outputs": [],
   "source": [
    "id_answer = df.set_index('id')['answer'].to_dict()\n"
   ]
  },
  {
   "cell_type": "code",
   "execution_count": 9,
   "id": "8860239f-9551-47a9-b758-71dd9591b88a",
   "metadata": {},
   "outputs": [],
   "source": [
    "from pymilvus import connections, FieldSchema, CollectionSchema, DataType, Collection, utility\n",
    "\n",
    "connections.connect(host='127.0.0.1', port='19530')\n",
    "\n",
    "def create_milvus_collection(collection_name, dim):\n",
    "    if utility.has_collection(collection_name):\n",
    "        utility.drop_collection(collection_name)\n",
    "    \n",
    "    fields = [\n",
    "    FieldSchema(name='id', dtype=DataType.VARCHAR, descrition='ids', max_length=500, is_primary=True, auto_id=False),\n",
    "    FieldSchema(name='embedding', dtype=DataType.FLOAT_VECTOR, descrition='embedding vectors', dim=dim)\n",
    "    ]\n",
    "    schema = CollectionSchema(fields=fields, description='reverse image search')\n",
    "    collection = Collection(name=collection_name, schema=schema)\n",
    "\n",
    "    # create IVF_FLAT index for collection.\n",
    "    index_params = {\n",
    "        'metric_type':'L2',\n",
    "        'index_type':\"IVF_FLAT\",\n",
    "        'params':{\"nlist\":2048}\n",
    "    }\n",
    "    collection.create_index(field_name=\"embedding\", index_params=index_params)\n",
    "    return collection\n",
    "\n",
    "collection = create_milvus_collection('question_answer', 768)"
   ]
  },
  {
   "cell_type": "code",
   "execution_count": 12,
   "id": "22cec64f-43ed-4fc0-80f7-290cffc9f8ac",
   "metadata": {},
   "outputs": [
    {
     "name": "stdout",
     "output_type": "stream",
     "text": [
      "CPU times: user 1min 45s, sys: 51 s, total: 2min 36s\n",
      "Wall time: 55.9 s\n"
     ]
    }
   ],
   "source": [
    "%%time\n",
    "from towhee import pipe, ops\n",
    "import numpy as np\n",
    "from towhee.datacollection import DataCollection\n",
    "\n",
    "insert_pipe = (\n",
    "    pipe.input('id', 'question', 'answer')\n",
    "        .map('question', 'vec', ops.text_embedding.dpr(model_name='facebook/dpr-ctx_encoder-single-nq-base'))\n",
    "        .map('vec', 'vec', lambda x: x / np.linalg.norm(x, axis=0))\n",
    "        .map(('id', 'vec'), 'insert_status', ops.ann_insert.milvus_client(host='127.0.0.1', port='19530', collection_name='question_answer'))\n",
    "        .output()\n",
    ")\n",
    "\n",
    "import csv\n",
    "with open('question_answer.csv', encoding='utf-8') as f:\n",
    "    reader = csv.reader(f)\n",
    "    next(reader)\n",
    "    for row in reader:\n",
    "        insert_pipe(*row)\n",
    "print(i)"
   ]
  },
  {
   "cell_type": "code",
   "execution_count": 13,
   "id": "127f19a9-3c04-4483-afad-390045bcd5a2",
   "metadata": {},
   "outputs": [
    {
     "name": "stdout",
     "output_type": "stream",
     "text": [
      "Total number of inserted data is 0.\n"
     ]
    }
   ],
   "source": [
    "print('Total number of inserted data is {}.'.format(collection.num_entities))\n"
   ]
  },
  {
   "cell_type": "code",
   "execution_count": 19,
   "id": "5a30f23a-f3eb-4d6f-8d07-8651cd1a3582",
   "metadata": {},
   "outputs": [
    {
     "data": {
      "text/html": [
       "<table style=\"border-collapse: collapse;\"><tr><th style=\"text-align: center; font-size: 130%; border: none;\">question</th> <th style=\"text-align: center; font-size: 130%; border: none;\">answer</th></tr>\n",
       "<tr><td style=\"text-align: center; vertical-align: top; border-right: solid 1px #D3D3D3; border-left: solid 1px #D3D3D3; \">Law</td><td style=\"text-align: center; vertical-align: top; border-right: solid 1px #D3D3D3; border-left: solid 1px #D3D3D3; \"><br>Renters insurance does not cover damage to vehicles. The vehicles insurance would cover what ever damage occurred. There is a sl...</br></td></tr></table>"
      ],
      "text/plain": [
       "<IPython.core.display.HTML object>"
      ]
     },
     "metadata": {},
     "output_type": "display_data"
    },
    {
     "name": "stdout",
     "output_type": "stream",
     "text": [
      "CPU times: user 818 ms, sys: 1.18 s, total: 2 s\n",
      "Wall time: 2.18 s\n"
     ]
    }
   ],
   "source": [
    "%%time\n",
    "collection.load()\n",
    "ans_pipe = (\n",
    "    pipe.input('question')\n",
    "        .map('question', 'vec', ops.text_embedding.dpr(model_name=\"facebook/dpr-ctx_encoder-single-nq-base\"))\n",
    "        .map('vec', 'vec', lambda x: x / np.linalg.norm(x, axis=0))\n",
    "        .map('vec', 'res', ops.ann_search.milvus_client(host='127.0.0.1', port='19530', collection_name='question_answer', limit=1))\n",
    "        .map('res', 'answer', lambda x: [id_answer[int(i[0])] for i in x])\n",
    "        .output('question', 'answer')\n",
    ")\n",
    "\n",
    "\n",
    "ans = ans_pipe('Law')\n",
    "ans = DataCollection(ans)\n",
    "ans.show()"
   ]
  },
  {
   "cell_type": "code",
   "execution_count": null,
   "id": "b827a980-93e7-4c70-b449-608ade8bd7ff",
   "metadata": {},
   "outputs": [],
   "source": []
  }
 ],
 "metadata": {
  "kernelspec": {
   "display_name": "Python 3 (ipykernel)",
   "language": "python",
   "name": "python3"
  },
  "language_info": {
   "codemirror_mode": {
    "name": "ipython",
    "version": 3
   },
   "file_extension": ".py",
   "mimetype": "text/x-python",
   "name": "python",
   "nbconvert_exporter": "python",
   "pygments_lexer": "ipython3",
   "version": "3.12.3"
  }
 },
 "nbformat": 4,
 "nbformat_minor": 5
}
